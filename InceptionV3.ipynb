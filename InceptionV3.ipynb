{
  "nbformat": 4,
  "nbformat_minor": 0,
  "metadata": {
    "colab": {
      "provenance": []
    },
    "kernelspec": {
      "name": "python3",
      "display_name": "Python 3"
    },
    "language_info": {
      "name": "python"
    },
    "accelerator": "GPU",
    "gpuClass": "standard"
  },
  "cells": [
    {
      "cell_type": "code",
      "source": [
        "import pandas as pd\n",
        "import numpy as np\n",
        "import datetime as dt\n",
        "import os\n",
        "import os.path\n",
        "from pathlib import Path\n",
        "import glob\n",
        "import cv2\n",
        "import matplotlib.pyplot as plot\n",
        "import tensorflow as tf\n",
        "import matplotlib.pyplot as plt\n",
        "import seaborn as sns\n",
        "from sklearn.model_selection import train_test_split\n",
        "from sklearn.preprocessing import LabelEncoder\n",
        "from tensorflow.keras.preprocessing.image import ImageDataGenerator, img_to_array, load_img\n",
        "from tensorflow.keras.callbacks import EarlyStopping\n",
        "from tensorflow.keras.models import Sequential\n",
        "from tensorflow.keras.layers import Conv2D, MaxPooling2D, Dropout, Flatten, Dense, BatchNormalization, GlobalAveragePooling2D, SpatialDropout2D\n",
        "from tensorflow.keras import layers\n",
        "from tensorflow.keras.applications.inception_v3 import InceptionV3\n",
        "from tensorflow.keras.applications.xception import Xception\n",
        "from tensorflow.keras.applications.vgg16 import VGG16\n",
        "from tensorflow.keras.applications.mobilenet import MobileNet\n",
        "from tensorflow.keras.optimizers import RMSprop\n",
        "from tensorflow.keras.models import Model\n",
        "from tensorflow.keras.utils import plot_model\n",
        "from sklearn.metrics import confusion_matrix, classification_report, recall_score, precision_score, f1_score, roc_auc_score, roc_curve\n",
        "from tensorflow.keras.preprocessing import image\n",
        "from PIL import Image\n",
        "import matplotlib.pyplot as plot\n",
        "\n",
        "\n",
        "from google.colab import drive\n",
        "drive.mount('/content/drive')\n"
      ],
      "metadata": {
        "colab": {
          "base_uri": "https://localhost:8080/"
        },
        "id": "RtjtxfJS3Zb2",
        "outputId": "557a3363-6b8c-46e3-fcee-5a1558b5dbe5"
      },
      "execution_count": null,
      "outputs": [
        {
          "output_type": "stream",
          "name": "stdout",
          "text": [
            "Drive already mounted at /content/drive; to attempt to forcibly remount, call drive.mount(\"/content/drive\", force_remount=True).\n"
          ]
        }
      ]
    },
    {
      "cell_type": "code",
      "source": [
        "# Selecting Dataset Folder Paths\n",
        "dir_ = Path('/content/drive/MyDrive/Image_Classification/data/train')\n",
        "filepaths = list(dir_.glob(r'**/*.png'))\n",
        "# Mapping the labels\n",
        "labels = list(map(lambda x: os.path.split(os.path.split(x)[0])[1], filepaths))\n",
        "\n",
        "# Paths & labels\n",
        "filepaths = pd.Series(filepaths, name = 'File').astype(str)\n",
        "labels = pd.Series(labels, name='Label')\n",
        "\n",
        "# Concatenating...\n",
        "df = pd.concat([filepaths, labels], axis=1)\n",
        "df = df.sample(frac = 1, random_state = 56).reset_index(drop = True)"
      ],
      "metadata": {
        "id": "TWP5VJ1n3mmf"
      },
      "execution_count": null,
      "outputs": []
    },
    {
      "cell_type": "code",
      "execution_count": null,
      "metadata": {
        "colab": {
          "base_uri": "https://localhost:8080/",
          "height": 53
        },
        "id": "Xt7ESkQR3U2Z",
        "outputId": "127c3660-b3bd-478c-886a-c9853d3093f6"
      },
      "outputs": [
        {
          "output_type": "execute_result",
          "data": {
            "text/plain": [
              "'vc = df[\\'Label\\'].value_counts()\\nplt.figure(figsize = (9, 5))\\nsns.barplot(x = vc.index,y = vc)\\nplt.title(\"Number of images for each category in the Training Dataset\", fontsize = 11)\\nplt.show()'"
            ],
            "application/vnd.google.colaboratory.intrinsic+json": {
              "type": "string"
            }
          },
          "metadata": {},
          "execution_count": 3
        }
      ],
      "source": [
        "'''vc = df['Label'].value_counts()\n",
        "plt.figure(figsize = (9, 5))\n",
        "sns.barplot(x = vc.index,y = vc)\n",
        "plt.title(\"Number of images for each category in the Training Dataset\", fontsize = 11)\n",
        "plt.show()'''\n",
        "\n",
        "\n",
        "\n"
      ]
    },
    {
      "cell_type": "code",
      "source": [
        "trainset_df,testset_df = train_test_split(df, train_size = 0.90, random_state = 42)\n",
        "display(trainset_df.head())\n",
        "testset_df.head()"
      ],
      "metadata": {
        "colab": {
          "base_uri": "https://localhost:8080/",
          "height": 395
        },
        "id": "9a9XLNaLk0ly",
        "outputId": "31c387f6-03bf-4546-94cc-8e5a4d75542d"
      },
      "execution_count": null,
      "outputs": [
        {
          "output_type": "display_data",
          "data": {
            "text/plain": [
              "                                                    File               Label\n",
              "4299   /content/drive/MyDrive/Image_Classification/da...  train_non_vehicles\n",
              "5090   /content/drive/MyDrive/Image_Classification/da...  train_non_vehicles\n",
              "2145   /content/drive/MyDrive/Image_Classification/da...      train_vehicles\n",
              "11406  /content/drive/MyDrive/Image_Classification/da...  train_non_vehicles\n",
              "4974   /content/drive/MyDrive/Image_Classification/da...  train_non_vehicles"
            ],
            "text/html": [
              "\n",
              "  <div id=\"df-1cc5c004-4116-4190-8b7c-16bd2dd26de0\">\n",
              "    <div class=\"colab-df-container\">\n",
              "      <div>\n",
              "<style scoped>\n",
              "    .dataframe tbody tr th:only-of-type {\n",
              "        vertical-align: middle;\n",
              "    }\n",
              "\n",
              "    .dataframe tbody tr th {\n",
              "        vertical-align: top;\n",
              "    }\n",
              "\n",
              "    .dataframe thead th {\n",
              "        text-align: right;\n",
              "    }\n",
              "</style>\n",
              "<table border=\"1\" class=\"dataframe\">\n",
              "  <thead>\n",
              "    <tr style=\"text-align: right;\">\n",
              "      <th></th>\n",
              "      <th>File</th>\n",
              "      <th>Label</th>\n",
              "    </tr>\n",
              "  </thead>\n",
              "  <tbody>\n",
              "    <tr>\n",
              "      <th>4299</th>\n",
              "      <td>/content/drive/MyDrive/Image_Classification/da...</td>\n",
              "      <td>train_non_vehicles</td>\n",
              "    </tr>\n",
              "    <tr>\n",
              "      <th>5090</th>\n",
              "      <td>/content/drive/MyDrive/Image_Classification/da...</td>\n",
              "      <td>train_non_vehicles</td>\n",
              "    </tr>\n",
              "    <tr>\n",
              "      <th>2145</th>\n",
              "      <td>/content/drive/MyDrive/Image_Classification/da...</td>\n",
              "      <td>train_vehicles</td>\n",
              "    </tr>\n",
              "    <tr>\n",
              "      <th>11406</th>\n",
              "      <td>/content/drive/MyDrive/Image_Classification/da...</td>\n",
              "      <td>train_non_vehicles</td>\n",
              "    </tr>\n",
              "    <tr>\n",
              "      <th>4974</th>\n",
              "      <td>/content/drive/MyDrive/Image_Classification/da...</td>\n",
              "      <td>train_non_vehicles</td>\n",
              "    </tr>\n",
              "  </tbody>\n",
              "</table>\n",
              "</div>\n",
              "      <button class=\"colab-df-convert\" onclick=\"convertToInteractive('df-1cc5c004-4116-4190-8b7c-16bd2dd26de0')\"\n",
              "              title=\"Convert this dataframe to an interactive table.\"\n",
              "              style=\"display:none;\">\n",
              "        \n",
              "  <svg xmlns=\"http://www.w3.org/2000/svg\" height=\"24px\"viewBox=\"0 0 24 24\"\n",
              "       width=\"24px\">\n",
              "    <path d=\"M0 0h24v24H0V0z\" fill=\"none\"/>\n",
              "    <path d=\"M18.56 5.44l.94 2.06.94-2.06 2.06-.94-2.06-.94-.94-2.06-.94 2.06-2.06.94zm-11 1L8.5 8.5l.94-2.06 2.06-.94-2.06-.94L8.5 2.5l-.94 2.06-2.06.94zm10 10l.94 2.06.94-2.06 2.06-.94-2.06-.94-.94-2.06-.94 2.06-2.06.94z\"/><path d=\"M17.41 7.96l-1.37-1.37c-.4-.4-.92-.59-1.43-.59-.52 0-1.04.2-1.43.59L10.3 9.45l-7.72 7.72c-.78.78-.78 2.05 0 2.83L4 21.41c.39.39.9.59 1.41.59.51 0 1.02-.2 1.41-.59l7.78-7.78 2.81-2.81c.8-.78.8-2.07 0-2.86zM5.41 20L4 18.59l7.72-7.72 1.47 1.35L5.41 20z\"/>\n",
              "  </svg>\n",
              "      </button>\n",
              "      \n",
              "  <style>\n",
              "    .colab-df-container {\n",
              "      display:flex;\n",
              "      flex-wrap:wrap;\n",
              "      gap: 12px;\n",
              "    }\n",
              "\n",
              "    .colab-df-convert {\n",
              "      background-color: #E8F0FE;\n",
              "      border: none;\n",
              "      border-radius: 50%;\n",
              "      cursor: pointer;\n",
              "      display: none;\n",
              "      fill: #1967D2;\n",
              "      height: 32px;\n",
              "      padding: 0 0 0 0;\n",
              "      width: 32px;\n",
              "    }\n",
              "\n",
              "    .colab-df-convert:hover {\n",
              "      background-color: #E2EBFA;\n",
              "      box-shadow: 0px 1px 2px rgba(60, 64, 67, 0.3), 0px 1px 3px 1px rgba(60, 64, 67, 0.15);\n",
              "      fill: #174EA6;\n",
              "    }\n",
              "\n",
              "    [theme=dark] .colab-df-convert {\n",
              "      background-color: #3B4455;\n",
              "      fill: #D2E3FC;\n",
              "    }\n",
              "\n",
              "    [theme=dark] .colab-df-convert:hover {\n",
              "      background-color: #434B5C;\n",
              "      box-shadow: 0px 1px 3px 1px rgba(0, 0, 0, 0.15);\n",
              "      filter: drop-shadow(0px 1px 2px rgba(0, 0, 0, 0.3));\n",
              "      fill: #FFFFFF;\n",
              "    }\n",
              "  </style>\n",
              "\n",
              "      <script>\n",
              "        const buttonEl =\n",
              "          document.querySelector('#df-1cc5c004-4116-4190-8b7c-16bd2dd26de0 button.colab-df-convert');\n",
              "        buttonEl.style.display =\n",
              "          google.colab.kernel.accessAllowed ? 'block' : 'none';\n",
              "\n",
              "        async function convertToInteractive(key) {\n",
              "          const element = document.querySelector('#df-1cc5c004-4116-4190-8b7c-16bd2dd26de0');\n",
              "          const dataTable =\n",
              "            await google.colab.kernel.invokeFunction('convertToInteractive',\n",
              "                                                     [key], {});\n",
              "          if (!dataTable) return;\n",
              "\n",
              "          const docLinkHtml = 'Like what you see? Visit the ' +\n",
              "            '<a target=\"_blank\" href=https://colab.research.google.com/notebooks/data_table.ipynb>data table notebook</a>'\n",
              "            + ' to learn more about interactive tables.';\n",
              "          element.innerHTML = '';\n",
              "          dataTable['output_type'] = 'display_data';\n",
              "          await google.colab.output.renderOutput(dataTable, element);\n",
              "          const docLink = document.createElement('div');\n",
              "          docLink.innerHTML = docLinkHtml;\n",
              "          element.appendChild(docLink);\n",
              "        }\n",
              "      </script>\n",
              "    </div>\n",
              "  </div>\n",
              "  "
            ]
          },
          "metadata": {}
        },
        {
          "output_type": "execute_result",
          "data": {
            "text/plain": [
              "                                                    File               Label\n",
              "12456  /content/drive/MyDrive/Image_Classification/da...      train_vehicles\n",
              "10557  /content/drive/MyDrive/Image_Classification/da...  train_non_vehicles\n",
              "10042  /content/drive/MyDrive/Image_Classification/da...  train_non_vehicles\n",
              "7810   /content/drive/MyDrive/Image_Classification/da...  train_non_vehicles\n",
              "4864   /content/drive/MyDrive/Image_Classification/da...      train_vehicles"
            ],
            "text/html": [
              "\n",
              "  <div id=\"df-47b07421-13bf-4e87-b326-2c625437454e\">\n",
              "    <div class=\"colab-df-container\">\n",
              "      <div>\n",
              "<style scoped>\n",
              "    .dataframe tbody tr th:only-of-type {\n",
              "        vertical-align: middle;\n",
              "    }\n",
              "\n",
              "    .dataframe tbody tr th {\n",
              "        vertical-align: top;\n",
              "    }\n",
              "\n",
              "    .dataframe thead th {\n",
              "        text-align: right;\n",
              "    }\n",
              "</style>\n",
              "<table border=\"1\" class=\"dataframe\">\n",
              "  <thead>\n",
              "    <tr style=\"text-align: right;\">\n",
              "      <th></th>\n",
              "      <th>File</th>\n",
              "      <th>Label</th>\n",
              "    </tr>\n",
              "  </thead>\n",
              "  <tbody>\n",
              "    <tr>\n",
              "      <th>12456</th>\n",
              "      <td>/content/drive/MyDrive/Image_Classification/da...</td>\n",
              "      <td>train_vehicles</td>\n",
              "    </tr>\n",
              "    <tr>\n",
              "      <th>10557</th>\n",
              "      <td>/content/drive/MyDrive/Image_Classification/da...</td>\n",
              "      <td>train_non_vehicles</td>\n",
              "    </tr>\n",
              "    <tr>\n",
              "      <th>10042</th>\n",
              "      <td>/content/drive/MyDrive/Image_Classification/da...</td>\n",
              "      <td>train_non_vehicles</td>\n",
              "    </tr>\n",
              "    <tr>\n",
              "      <th>7810</th>\n",
              "      <td>/content/drive/MyDrive/Image_Classification/da...</td>\n",
              "      <td>train_non_vehicles</td>\n",
              "    </tr>\n",
              "    <tr>\n",
              "      <th>4864</th>\n",
              "      <td>/content/drive/MyDrive/Image_Classification/da...</td>\n",
              "      <td>train_vehicles</td>\n",
              "    </tr>\n",
              "  </tbody>\n",
              "</table>\n",
              "</div>\n",
              "      <button class=\"colab-df-convert\" onclick=\"convertToInteractive('df-47b07421-13bf-4e87-b326-2c625437454e')\"\n",
              "              title=\"Convert this dataframe to an interactive table.\"\n",
              "              style=\"display:none;\">\n",
              "        \n",
              "  <svg xmlns=\"http://www.w3.org/2000/svg\" height=\"24px\"viewBox=\"0 0 24 24\"\n",
              "       width=\"24px\">\n",
              "    <path d=\"M0 0h24v24H0V0z\" fill=\"none\"/>\n",
              "    <path d=\"M18.56 5.44l.94 2.06.94-2.06 2.06-.94-2.06-.94-.94-2.06-.94 2.06-2.06.94zm-11 1L8.5 8.5l.94-2.06 2.06-.94-2.06-.94L8.5 2.5l-.94 2.06-2.06.94zm10 10l.94 2.06.94-2.06 2.06-.94-2.06-.94-.94-2.06-.94 2.06-2.06.94z\"/><path d=\"M17.41 7.96l-1.37-1.37c-.4-.4-.92-.59-1.43-.59-.52 0-1.04.2-1.43.59L10.3 9.45l-7.72 7.72c-.78.78-.78 2.05 0 2.83L4 21.41c.39.39.9.59 1.41.59.51 0 1.02-.2 1.41-.59l7.78-7.78 2.81-2.81c.8-.78.8-2.07 0-2.86zM5.41 20L4 18.59l7.72-7.72 1.47 1.35L5.41 20z\"/>\n",
              "  </svg>\n",
              "      </button>\n",
              "      \n",
              "  <style>\n",
              "    .colab-df-container {\n",
              "      display:flex;\n",
              "      flex-wrap:wrap;\n",
              "      gap: 12px;\n",
              "    }\n",
              "\n",
              "    .colab-df-convert {\n",
              "      background-color: #E8F0FE;\n",
              "      border: none;\n",
              "      border-radius: 50%;\n",
              "      cursor: pointer;\n",
              "      display: none;\n",
              "      fill: #1967D2;\n",
              "      height: 32px;\n",
              "      padding: 0 0 0 0;\n",
              "      width: 32px;\n",
              "    }\n",
              "\n",
              "    .colab-df-convert:hover {\n",
              "      background-color: #E2EBFA;\n",
              "      box-shadow: 0px 1px 2px rgba(60, 64, 67, 0.3), 0px 1px 3px 1px rgba(60, 64, 67, 0.15);\n",
              "      fill: #174EA6;\n",
              "    }\n",
              "\n",
              "    [theme=dark] .colab-df-convert {\n",
              "      background-color: #3B4455;\n",
              "      fill: #D2E3FC;\n",
              "    }\n",
              "\n",
              "    [theme=dark] .colab-df-convert:hover {\n",
              "      background-color: #434B5C;\n",
              "      box-shadow: 0px 1px 3px 1px rgba(0, 0, 0, 0.15);\n",
              "      filter: drop-shadow(0px 1px 2px rgba(0, 0, 0, 0.3));\n",
              "      fill: #FFFFFF;\n",
              "    }\n",
              "  </style>\n",
              "\n",
              "      <script>\n",
              "        const buttonEl =\n",
              "          document.querySelector('#df-47b07421-13bf-4e87-b326-2c625437454e button.colab-df-convert');\n",
              "        buttonEl.style.display =\n",
              "          google.colab.kernel.accessAllowed ? 'block' : 'none';\n",
              "\n",
              "        async function convertToInteractive(key) {\n",
              "          const element = document.querySelector('#df-47b07421-13bf-4e87-b326-2c625437454e');\n",
              "          const dataTable =\n",
              "            await google.colab.kernel.invokeFunction('convertToInteractive',\n",
              "                                                     [key], {});\n",
              "          if (!dataTable) return;\n",
              "\n",
              "          const docLinkHtml = 'Like what you see? Visit the ' +\n",
              "            '<a target=\"_blank\" href=https://colab.research.google.com/notebooks/data_table.ipynb>data table notebook</a>'\n",
              "            + ' to learn more about interactive tables.';\n",
              "          element.innerHTML = '';\n",
              "          dataTable['output_type'] = 'display_data';\n",
              "          await google.colab.output.renderOutput(dataTable, element);\n",
              "          const docLink = document.createElement('div');\n",
              "          docLink.innerHTML = docLinkHtml;\n",
              "          element.appendChild(docLink);\n",
              "        }\n",
              "      </script>\n",
              "    </div>\n",
              "  </div>\n",
              "  "
            ]
          },
          "metadata": {},
          "execution_count": 4
        }
      ]
    },
    {
      "cell_type": "code",
      "source": [
        "# converting the Label to a numeric format for testing later...\n",
        "LE = LabelEncoder()\n",
        "y_test = LE.fit_transform(testset_df[\"Label\"])"
      ],
      "metadata": {
        "id": "iH1K_TVJnCuk"
      },
      "execution_count": null,
      "outputs": []
    },
    {
      "cell_type": "code",
      "source": [
        "# Viewing data in training dataset\n",
        "print('Training Dataset:')\n",
        "print(f'Number of images: {trainset_df.shape[0]}')\n",
        "print(f'Number of images with vehicle: {trainset_df[\"Label\"].value_counts()[0]}')\n",
        "print(f'Number of images with Non-vehicle: {trainset_df[\"Label\"].value_counts()[1]}\\n')\n",
        "\n",
        "# Viewing data in test dataset\n",
        "print('Test Dataset:')\n",
        "print(f'Number of images: {testset_df.shape[0]}')\n",
        "print(f'Number of images with Vehicle: {testset_df[\"Label\"].value_counts()[0]}')\n",
        "print(f'Number of images with Non-vehicle: {testset_df[\"Label\"].value_counts()[1]}\\n')"
      ],
      "metadata": {
        "colab": {
          "base_uri": "https://localhost:8080/"
        },
        "id": "R7sJqNlSnLeP",
        "outputId": "5c01c85f-7c77-4644-c80f-fdaa3ab5df97"
      },
      "execution_count": null,
      "outputs": [
        {
          "output_type": "stream",
          "name": "stdout",
          "text": [
            "Training Dataset:\n",
            "Number of images: 11264\n",
            "Number of images with vehicle: 5841\n",
            "Number of images with Non-vehicle: 5423\n",
            "\n",
            "Test Dataset:\n",
            "Number of images: 1252\n",
            "Number of images with Vehicle: 643\n",
            "Number of images with Non-vehicle: 609\n",
            "\n"
          ]
        }
      ]
    },
    {
      "cell_type": "code",
      "source": [
        "#rescale - Transform image size (normalization of data)\n",
        "#shear_range - Random geometric transformations\n",
        "#zoom_range - Images that will be zoomed\n",
        "#rotation_range - Degree of image rotation\n",
        "#width_shift_range - Image Width Change Range\n",
        "#height_shift_range - Image height change range\n",
        "#horizontal_flip - Rotate images horizontally\n",
        "#vertical_flip - Rotate images vertically\n",
        "#validation_split - Images that have been reserved for validation (0-1)\n",
        "train_datagen = ImageDataGenerator(rescale = 1./255,\n",
        "                                    shear_range = 0.2,\n",
        "                                    zoom_range = 0.1,\n",
        "                                    rotation_range = 20,\n",
        "                                    width_shift_range = 0.1,\n",
        "                                    height_shift_range = 0.1,\n",
        "                                    horizontal_flip = True,\n",
        "                                    vertical_flip = True,\n",
        "                                    validation_split = 0.1)\n",
        "\n",
        "test_datagen = ImageDataGenerator(rescale = 1./255)"
      ],
      "metadata": {
        "id": "y9I24Q8TnYEQ"
      },
      "execution_count": null,
      "outputs": []
    },
    {
      "cell_type": "code",
      "source": [
        "#Directory of training, validation and test images\n",
        "'''dataframe - Dataframe containing the images directory\n",
        "x_col - Column name containing the images directory\n",
        "y_col - Name of the column containing what we want to predict\n",
        "target_size - size of the images (remembering that it must be the same size as the input layer)\n",
        "color_mode - RGB color standard\n",
        "class_mode - binary class mode\n",
        "batch_size - batch size\n",
        "shuffle - Shuffle the data\n",
        "seed - optional random seed for the shuffle\n",
        "subset - Subset of data being training and validation (only used if using validation_split in ImageDataGenerator)'''\n",
        "print(\"Preparing the training dataset ...\")\n",
        "training_set = train_datagen.flow_from_dataframe(\n",
        "    dataframe = trainset_df,\n",
        "    x_col = \"File\",\n",
        "    y_col = \"Label\",\n",
        "    target_size = (75, 75),\n",
        "    color_mode = \"rgb\",\n",
        "    class_mode = \"binary\",\n",
        "    batch_size = 100,\n",
        "    shuffle = True,\n",
        "    seed = 2,\n",
        "    subset = \"training\")\n",
        "\n",
        "print(\"Preparing the validation dataset ...\")\n",
        "validation_set = train_datagen.flow_from_dataframe(\n",
        "    dataframe = trainset_df,\n",
        "    x_col = \"File\",\n",
        "    y_col = \"Label\",\n",
        "    target_size = (75, 75),\n",
        "    color_mode =\"rgb\",\n",
        "    class_mode = \"binary\",\n",
        "    batch_size = 100,\n",
        "    shuffle = True,\n",
        "    seed = 2,\n",
        "    subset = \"validation\")\n",
        "\n",
        "print(\"Preparing the test dataset ...\")\n",
        "test_set = test_datagen.flow_from_dataframe(\n",
        "    dataframe = testset_df,\n",
        "    x_col = \"File\",\n",
        "    y_col = \"Label\",\n",
        "    target_size = (75, 75),\n",
        "    color_mode =\"rgb\",\n",
        "    class_mode = \"binary\",\n",
        "    shuffle = False,\n",
        "    batch_size = 100)\n",
        "\n",
        "print('Data generators are ready!')\n"
      ],
      "metadata": {
        "colab": {
          "base_uri": "https://localhost:8080/"
        },
        "id": "2rbxqbiTn1_J",
        "outputId": "e4a4dd3e-fe98-4fa7-97fd-1ec57ad13a53"
      },
      "execution_count": null,
      "outputs": [
        {
          "output_type": "stream",
          "name": "stdout",
          "text": [
            "Preparing the training dataset ...\n",
            "Found 10138 validated image filenames belonging to 2 classes.\n",
            "Preparing the validation dataset ...\n",
            "Found 1126 validated image filenames belonging to 2 classes.\n",
            "Preparing the test dataset ...\n",
            "Found 1252 validated image filenames belonging to 2 classes.\n",
            "Data generators are ready!\n"
          ]
        }
      ]
    },
    {
      "cell_type": "code",
      "source": [
        "'''monitor - Metrics that will be monitored\n",
        "patience - Number of times without improvement in the model, after these times the training is stopped\n",
        "restore_best_weights - Restores best weights if training is interrupted'''\n",
        "# Callbacks\n",
        "cb = [EarlyStopping(monitor = 'loss', mode = 'min', patience = 5, restore_best_weights = True)]"
      ],
      "metadata": {
        "id": "6z4GpL1WoTOq"
      },
      "execution_count": null,
      "outputs": []
    },
    {
      "cell_type": "code",
      "source": [
        "#Construction of the model Inception\n",
        "'''Step 1 - Base model creation\n",
        "input_shape - Setting the height/width and RGB channels (75, 75, 3)\n",
        "include_top - Fully connected layer will not be included on top\n",
        "weights - Pre-training using imagenet'''\n",
        "CNN_base_inc = InceptionV3(input_shape = (75, 75, 3), include_top = False, weights = 'imagenet')"
      ],
      "metadata": {
        "id": "VIAL-Cd1ofvM",
        "colab": {
          "base_uri": "https://localhost:8080/"
        },
        "outputId": "de5bb0fd-bf98-46bf-d7ad-3bd3b025851d"
      },
      "execution_count": null,
      "outputs": [
        {
          "output_type": "stream",
          "name": "stdout",
          "text": [
            "Downloading data from https://storage.googleapis.com/tensorflow/keras-applications/inception_v3/inception_v3_weights_tf_dim_ordering_tf_kernels_notop.h5\n",
            "87910968/87910968 [==============================] - 5s 0us/step\n"
          ]
        }
      ]
    },
    {
      "cell_type": "code",
      "source": [
        "for layer in CNN_base_inc.layers:\n",
        "  layer.trainable = False"
      ],
      "metadata": {
        "id": "cVNNMhUOo15a"
      },
      "execution_count": null,
      "outputs": []
    },
    {
      "cell_type": "code",
      "source": [
        "#Step 2 - Flattening\n",
        "#Transforming the matrix to a vector to enter the Artificial Neural Network layer\n",
        "x = layers.Flatten()(CNN_base_inc.output)"
      ],
      "metadata": {
        "id": "kfTqMU2lo_5I"
      },
      "execution_count": null,
      "outputs": []
    },
    {
      "cell_type": "code",
      "source": [
        "#Step 3 - Dense Neural Networks\n",
        "#Dense - All connected neurons\n",
        "#units - Number of neurons that are part of the hidden layer\n",
        "#activation - Activation function that will be inserted\n",
        "#Dropout - is used to decrease the chance of overfitting (40% of input neurons are zeroed)\n",
        "x = layers.Dense(256, activation='relu')(x)\n",
        "x = layers.Dropout(0.1)(x)\n",
        "x = layers.Dense(1, activation='sigmoid')(x)\n",
        "CNN_inc = Model(CNN_base_inc.input, x)"
      ],
      "metadata": {
        "id": "u64ywSG5pUbc"
      },
      "execution_count": null,
      "outputs": []
    },
    {
      "cell_type": "code",
      "source": [
        "#Step 4 - Model compilation and training\n",
        "#Compile parameters:\n",
        "'''optimizer - descent of the gradient and descent of the stochastic gradient\n",
        " loss - Loss function (binary_crossentropy as there is only one exit)\n",
        " metrics - Evaluation metrics (obs - more than one can be placed)\n",
        " Fit parameters:\n",
        " train_data - training database\n",
        " epochs - number of seasons\n",
        " validation_data - test database\n",
        " callbacks - Using EarlyStopping\n",
        " validation_steps - number of images to validation'''\n",
        "# Compilation\n",
        "CNN_inc.compile(optimizer = RMSprop(lr = 0.0001), loss = 'binary_crossentropy', metrics = ['accuracy'])\n",
        "\n",
        "# Start of counting time\n",
        "start = dt.datetime.now()\n",
        "\n",
        "# Training and validation\n",
        "CNN_inc_history = CNN_inc.fit(training_set, epochs = 35, validation_data = validation_set, callbacks = cb)\n",
        "\n",
        "# End of Time Counting\n",
        "end = dt.datetime.now()\n",
        "time_CNN_inc = end - start\n",
        "print ('\\nTraining and validation time is: ', time_CNN_inc)"
      ],
      "metadata": {
        "colab": {
          "base_uri": "https://localhost:8080/"
        },
        "id": "nn0l7eqfpdGJ",
        "outputId": "de71239b-9b02-49fa-d396-76181a812778"
      },
      "execution_count": null,
      "outputs": [
        {
          "output_type": "stream",
          "name": "stderr",
          "text": [
            "/usr/local/lib/python3.8/dist-packages/keras/optimizers/optimizer_v2/rmsprop.py:135: UserWarning: The `lr` argument is deprecated, use `learning_rate` instead.\n",
            "  super(RMSprop, self).__init__(name, **kwargs)\n"
          ]
        },
        {
          "output_type": "stream",
          "name": "stdout",
          "text": [
            "Epoch 1/35\n",
            "102/102 [==============================] - 3830s 37s/step - loss: 0.2363 - accuracy: 0.9181 - val_loss: 0.1144 - val_accuracy: 0.9680\n",
            "Epoch 2/35\n",
            "102/102 [==============================] - 36s 356ms/step - loss: 0.1143 - accuracy: 0.9612 - val_loss: 0.1058 - val_accuracy: 0.9627\n",
            "Epoch 3/35\n",
            "102/102 [==============================] - 39s 378ms/step - loss: 0.0935 - accuracy: 0.9673 - val_loss: 0.0901 - val_accuracy: 0.9636\n",
            "Epoch 4/35\n",
            "102/102 [==============================] - 36s 356ms/step - loss: 0.0806 - accuracy: 0.9737 - val_loss: 0.0744 - val_accuracy: 0.9725\n",
            "Epoch 5/35\n",
            "102/102 [==============================] - 36s 357ms/step - loss: 0.0807 - accuracy: 0.9721 - val_loss: 0.0795 - val_accuracy: 0.9734\n",
            "Epoch 6/35\n",
            "102/102 [==============================] - 36s 352ms/step - loss: 0.0773 - accuracy: 0.9727 - val_loss: 0.0679 - val_accuracy: 0.9751\n",
            "Epoch 7/35\n",
            "102/102 [==============================] - 36s 353ms/step - loss: 0.0753 - accuracy: 0.9726 - val_loss: 0.0927 - val_accuracy: 0.9689\n",
            "Epoch 8/35\n",
            "102/102 [==============================] - 36s 354ms/step - loss: 0.0710 - accuracy: 0.9734 - val_loss: 0.0577 - val_accuracy: 0.9805\n",
            "Epoch 9/35\n",
            "102/102 [==============================] - 35s 346ms/step - loss: 0.0647 - accuracy: 0.9788 - val_loss: 0.0604 - val_accuracy: 0.9822\n",
            "Epoch 10/35\n",
            "102/102 [==============================] - 36s 353ms/step - loss: 0.0661 - accuracy: 0.9756 - val_loss: 0.0620 - val_accuracy: 0.9734\n",
            "Epoch 11/35\n",
            "102/102 [==============================] - 36s 356ms/step - loss: 0.0635 - accuracy: 0.9746 - val_loss: 0.0567 - val_accuracy: 0.9778\n",
            "Epoch 12/35\n",
            "102/102 [==============================] - 35s 344ms/step - loss: 0.0672 - accuracy: 0.9759 - val_loss: 0.0648 - val_accuracy: 0.9787\n",
            "Epoch 13/35\n",
            "102/102 [==============================] - 38s 377ms/step - loss: 0.0594 - accuracy: 0.9794 - val_loss: 0.0452 - val_accuracy: 0.9822\n",
            "Epoch 14/35\n",
            "102/102 [==============================] - 36s 353ms/step - loss: 0.0648 - accuracy: 0.9768 - val_loss: 0.0474 - val_accuracy: 0.9840\n",
            "Epoch 15/35\n",
            "102/102 [==============================] - 36s 352ms/step - loss: 0.0583 - accuracy: 0.9803 - val_loss: 0.0530 - val_accuracy: 0.9796\n",
            "Epoch 16/35\n",
            "102/102 [==============================] - 36s 353ms/step - loss: 0.0642 - accuracy: 0.9775 - val_loss: 0.0638 - val_accuracy: 0.9742\n",
            "Epoch 17/35\n",
            "102/102 [==============================] - 35s 344ms/step - loss: 0.0624 - accuracy: 0.9799 - val_loss: 0.0614 - val_accuracy: 0.9778\n",
            "Epoch 18/35\n",
            "102/102 [==============================] - 36s 352ms/step - loss: 0.0618 - accuracy: 0.9788 - val_loss: 0.0461 - val_accuracy: 0.9822\n",
            "Epoch 19/35\n",
            "102/102 [==============================] - 35s 346ms/step - loss: 0.0604 - accuracy: 0.9773 - val_loss: 0.0521 - val_accuracy: 0.9822\n",
            "Epoch 20/35\n",
            "102/102 [==============================] - 36s 349ms/step - loss: 0.0626 - accuracy: 0.9779 - val_loss: 0.0482 - val_accuracy: 0.9858\n",
            "\n",
            "Training and validation time is:  1:16:44.041161\n"
          ]
        }
      ]
    },
    {
      "cell_type": "code",
      "source": [
        "plot.subplot(2,1,1)\n",
        "plot.plot(CNN_inc_history.history['accuracy'])\n",
        "plot.plot(CNN_inc_history.history['val_accuracy'])\n",
        "plot.title('model accuracy')\n",
        "plot.ylabel('accuracy')\n",
        "plot.xlabel('epoch')\n",
        "plot.legend(['train', 'test'], loc='lower right')"
      ],
      "metadata": {
        "id": "JA5HyX9UD_7M",
        "colab": {
          "base_uri": "https://localhost:8080/",
          "height": 194
        },
        "outputId": "d15edcbc-4c70-42be-a0d2-bbdc7c2f4fb9"
      },
      "execution_count": null,
      "outputs": [
        {
          "output_type": "execute_result",
          "data": {
            "text/plain": [
              "<matplotlib.legend.Legend at 0x7f90e837a700>"
            ]
          },
          "metadata": {},
          "execution_count": 17
        },
        {
          "output_type": "display_data",
          "data": {
            "text/plain": [
              "<Figure size 432x288 with 1 Axes>"
            ],
            "image/png": "[encoded data removed]"
          },
          "metadata": {
            "needs_background": "light"
          }
        }
      ]
    },
    {
      "cell_type": "code",
      "source": [
        "plot.subplot(2,1,2)\n",
        "plot.plot(CNN_inc_history.history['loss'])\n",
        "plot.plot(CNN_inc_history.history['val_loss'])\n",
        "plot.title('model loss')\n",
        "plot.ylabel('loss')\n",
        "plot.xlabel('epoch')\n",
        "plot.legend(['train', 'test'], loc='upper right')"
      ],
      "metadata": {
        "id": "-rZELYcSEEuE",
        "colab": {
          "base_uri": "https://localhost:8080/",
          "height": 194
        },
        "outputId": "7d8d0ff5-ba98-49b9-f537-76f791773a43"
      },
      "execution_count": null,
      "outputs": [
        {
          "output_type": "execute_result",
          "data": {
            "text/plain": [
              "<matplotlib.legend.Legend at 0x7f90e82ba8b0>"
            ]
          },
          "metadata": {},
          "execution_count": 19
        },
        {
          "output_type": "display_data",
          "data": {
            "text/plain": [
              "<Figure size 432x288 with 1 Axes>"
            ],
            "image/png": "[encoded data removed]"
          },
          "metadata": {
            "needs_background": "light"
          }
        }
      ]
    },
    {
      "cell_type": "code",
      "source": [
        "model_json = CNN_inc.to_json()\n",
        "with open(\"/content/drive/MyDrive/Image_Classification/data/Inception.json\", \"w\") as json_file:\n",
        "  json_file.write(model_json)\n",
        "  CNN_inc.save(\"/content/drive/MyDrive/Image_Classification/data/Inception.h5\")\n",
        "  print(\"Saved model to disk\")\n",
        "  CNN_inc.save_weights(\"/content/drive/MyDrive/Image_Classification/data/Inception.h5\")"
      ],
      "metadata": {
        "colab": {
          "base_uri": "https://localhost:8080/"
        },
        "id": "c5Jc-_kEJ2Yf",
        "outputId": "01b3c24d-3bea-418a-bcf8-b5000e96d48e"
      },
      "execution_count": null,
      "outputs": [
        {
          "output_type": "stream",
          "name": "stdout",
          "text": [
            "Saved model to disk\n"
          ]
        }
      ]
    }
  ]
}