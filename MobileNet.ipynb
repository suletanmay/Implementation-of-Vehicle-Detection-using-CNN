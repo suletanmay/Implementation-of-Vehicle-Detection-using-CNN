{
  "nbformat": 4,
  "nbformat_minor": 0,
  "metadata": {
    "colab": {
      "provenance": []
    },
    "kernelspec": {
      "name": "python3",
      "display_name": "Python 3"
    },
    "language_info": {
      "name": "python"
    },
    "accelerator": "GPU",
    "gpuClass": "standard"
  },
  "cells": [
    {
      "cell_type": "code",
      "execution_count": null,
      "metadata": {
        "colab": {
          "base_uri": "https://localhost:8080/"
        },
        "id": "ZaXwjoZ-EkXQ",
        "outputId": "e566a9f0-cca4-45f8-9eae-e193e80b0465"
      },
      "outputs": [
        {
          "output_type": "stream",
          "name": "stdout",
          "text": [
            "Mounted at /content/drive\n"
          ]
        }
      ],
      "source": [
        "import pandas as pd\n",
        "import numpy as np\n",
        "import datetime as dt\n",
        "import os\n",
        "import os.path\n",
        "from pathlib import Path\n",
        "import glob\n",
        "import cv2\n",
        "import matplotlib.pyplot as plt\n",
        "import seaborn as sns\n",
        "from sklearn.model_selection import train_test_split\n",
        "from sklearn.preprocessing import LabelEncoder\n",
        "from tensorflow.keras.preprocessing.image import ImageDataGenerator, img_to_array, load_img\n",
        "from tensorflow.keras.callbacks import EarlyStopping\n",
        "from tensorflow.keras.models import Sequential\n",
        "from tensorflow.keras.layers import Conv2D, MaxPooling2D, Dropout, Flatten, Dense, BatchNormalization, GlobalAveragePooling2D, SpatialDropout2D\n",
        "from tensorflow.keras import layers\n",
        "from tensorflow.keras.applications.inception_v3 import InceptionV3\n",
        "from tensorflow.keras.applications.xception import Xception\n",
        "from tensorflow.keras.applications.vgg16 import VGG16\n",
        "from tensorflow.keras.applications.mobilenet import MobileNet\n",
        "from tensorflow.keras.optimizers import RMSprop\n",
        "from tensorflow.keras.models import Model\n",
        "from tensorflow.keras.utils import plot_model\n",
        "from sklearn.metrics import confusion_matrix, classification_report, recall_score, precision_score, f1_score, roc_auc_score, roc_curve\n",
        "from tensorflow.keras.preprocessing import image\n",
        "from PIL import Image\n",
        "\n",
        "from google.colab import drive\n",
        "drive.mount('/content/drive')"
      ]
    },
    {
      "cell_type": "code",
      "source": [
        "# Selecting Dataset Folder Paths\n",
        "dir_ = Path('/content/drive/MyDrive/Image_Classification/data/train')\n",
        "filepaths = list(dir_.glob(r'**/*.png'))\n",
        "# Mapping the labels\n",
        "labels = list(map(lambda x: os.path.split(os.path.split(x)[0])[1], filepaths))\n",
        "\n",
        "# Paths & labels femalee eyes\n",
        "filepaths = pd.Series(filepaths, name = 'File').astype(str)\n",
        "labels = pd.Series(labels, name='Label')\n",
        "\n",
        "# Concatenating...\n",
        "df = pd.concat([filepaths, labels], axis=1)\n",
        "df = df.sample(frac = 1, random_state = 56).reset_index(drop = True)"
      ],
      "metadata": {
        "id": "DzQ6yNQ2Ex4m"
      },
      "execution_count": null,
      "outputs": []
    },
    {
      "cell_type": "code",
      "source": [
        "trainset_df,testset_df = train_test_split(df, train_size = 0.90, random_state = 42)\n",
        "display(trainset_df.head())\n",
        "testset_df.head()"
      ],
      "metadata": {
        "id": "CM5EscQFE1PR",
        "colab": {
          "base_uri": "https://localhost:8080/",
          "height": 395
        },
        "outputId": "c11952bb-c55e-479a-bf35-f061ee43f26c"
      },
      "execution_count": null,
      "outputs": [
        {
          "output_type": "display_data",
          "data": {
            "text/plain": [
              "                                                    File               Label\n",
              "4299   /content/drive/MyDrive/Image_Classification/da...  train_non_vehicles\n",
              "5090   /content/drive/MyDrive/Image_Classification/da...  train_non_vehicles\n",
              "2145   /content/drive/MyDrive/Image_Classification/da...      train_vehicles\n",
              "11406  /content/drive/MyDrive/Image_Classification/da...  train_non_vehicles\n",
              "4974   /content/drive/MyDrive/Image_Classification/da...  train_non_vehicles"
            ],
            "text/html": [
              "\n",
              "  <div id=\"df-208fa9e8-ff0a-4eb4-bd56-99a9795931d9\">\n",
              "    <div class=\"colab-df-container\">\n",
              "      <div>\n",
              "<style scoped>\n",
              "    .dataframe tbody tr th:only-of-type {\n",
              "        vertical-align: middle;\n",
              "    }\n",
              "\n",
              "    .dataframe tbody tr th {\n",
              "        vertical-align: top;\n",
              "    }\n",
              "\n",
              "    .dataframe thead th {\n",
              "        text-align: right;\n",
              "    }\n",
              "</style>\n",
              "<table border=\"1\" class=\"dataframe\">\n",
              "  <thead>\n",
              "    <tr style=\"text-align: right;\">\n",
              "      <th></th>\n",
              "      <th>File</th>\n",
              "      <th>Label</th>\n",
              "    </tr>\n",
              "  </thead>\n",
              "  <tbody>\n",
              "    <tr>\n",
              "      <th>4299</th>\n",
              "      <td>/content/drive/MyDrive/Image_Classification/da...</td>\n",
              "      <td>train_non_vehicles</td>\n",
              "    </tr>\n",
              "    <tr>\n",
              "      <th>5090</th>\n",
              "      <td>/content/drive/MyDrive/Image_Classification/da...</td>\n",
              "      <td>train_non_vehicles</td>\n",
              "    </tr>\n",
              "    <tr>\n",
              "      <th>2145</th>\n",
              "      <td>/content/drive/MyDrive/Image_Classification/da...</td>\n",
              "      <td>train_vehicles</td>\n",
              "    </tr>\n",
              "    <tr>\n",
              "      <th>11406</th>\n",
              "      <td>/content/drive/MyDrive/Image_Classification/da...</td>\n",
              "      <td>train_non_vehicles</td>\n",
              "    </tr>\n",
              "    <tr>\n",
              "      <th>4974</th>\n",
              "      <td>/content/drive/MyDrive/Image_Classification/da...</td>\n",
              "      <td>train_non_vehicles</td>\n",
              "    </tr>\n",
              "  </tbody>\n",
              "</table>\n",
              "</div>\n",
              "      <button class=\"colab-df-convert\" onclick=\"convertToInteractive('df-208fa9e8-ff0a-4eb4-bd56-99a9795931d9')\"\n",
              "              title=\"Convert this dataframe to an interactive table.\"\n",
              "              style=\"display:none;\">\n",
              "        \n",
              "  <svg xmlns=\"http://www.w3.org/2000/svg\" height=\"24px\"viewBox=\"0 0 24 24\"\n",
              "       width=\"24px\">\n",
              "    <path d=\"M0 0h24v24H0V0z\" fill=\"none\"/>\n",
              "    <path d=\"M18.56 5.44l.94 2.06.94-2.06 2.06-.94-2.06-.94-.94-2.06-.94 2.06-2.06.94zm-11 1L8.5 8.5l.94-2.06 2.06-.94-2.06-.94L8.5 2.5l-.94 2.06-2.06.94zm10 10l.94 2.06.94-2.06 2.06-.94-2.06-.94-.94-2.06-.94 2.06-2.06.94z\"/><path d=\"M17.41 7.96l-1.37-1.37c-.4-.4-.92-.59-1.43-.59-.52 0-1.04.2-1.43.59L10.3 9.45l-7.72 7.72c-.78.78-.78 2.05 0 2.83L4 21.41c.39.39.9.59 1.41.59.51 0 1.02-.2 1.41-.59l7.78-7.78 2.81-2.81c.8-.78.8-2.07 0-2.86zM5.41 20L4 18.59l7.72-7.72 1.47 1.35L5.41 20z\"/>\n",
              "  </svg>\n",
              "      </button>\n",
              "      \n",
              "  <style>\n",
              "    .colab-df-container {\n",
              "      display:flex;\n",
              "      flex-wrap:wrap;\n",
              "      gap: 12px;\n",
              "    }\n",
              "\n",
              "    .colab-df-convert {\n",
              "      background-color: #E8F0FE;\n",
              "      border: none;\n",
              "      border-radius: 50%;\n",
              "      cursor: pointer;\n",
              "      display: none;\n",
              "      fill: #1967D2;\n",
              "      height: 32px;\n",
              "      padding: 0 0 0 0;\n",
              "      width: 32px;\n",
              "    }\n",
              "\n",
              "    .colab-df-convert:hover {\n",
              "      background-color: #E2EBFA;\n",
              "      box-shadow: 0px 1px 2px rgba(60, 64, 67, 0.3), 0px 1px 3px 1px rgba(60, 64, 67, 0.15);\n",
              "      fill: #174EA6;\n",
              "    }\n",
              "\n",
              "    [theme=dark] .colab-df-convert {\n",
              "      background-color: #3B4455;\n",
              "      fill: #D2E3FC;\n",
              "    }\n",
              "\n",
              "    [theme=dark] .colab-df-convert:hover {\n",
              "      background-color: #434B5C;\n",
              "      box-shadow: 0px 1px 3px 1px rgba(0, 0, 0, 0.15);\n",
              "      filter: drop-shadow(0px 1px 2px rgba(0, 0, 0, 0.3));\n",
              "      fill: #FFFFFF;\n",
              "    }\n",
              "  </style>\n",
              "\n",
              "      <script>\n",
              "        const buttonEl =\n",
              "          document.querySelector('#df-208fa9e8-ff0a-4eb4-bd56-99a9795931d9 button.colab-df-convert');\n",
              "        buttonEl.style.display =\n",
              "          google.colab.kernel.accessAllowed ? 'block' : 'none';\n",
              "\n",
              "        async function convertToInteractive(key) {\n",
              "          const element = document.querySelector('#df-208fa9e8-ff0a-4eb4-bd56-99a9795931d9');\n",
              "          const dataTable =\n",
              "            await google.colab.kernel.invokeFunction('convertToInteractive',\n",
              "                                                     [key], {});\n",
              "          if (!dataTable) return;\n",
              "\n",
              "          const docLinkHtml = 'Like what you see? Visit the ' +\n",
              "            '<a target=\"_blank\" href=https://colab.research.google.com/notebooks/data_table.ipynb>data table notebook</a>'\n",
              "            + ' to learn more about interactive tables.';\n",
              "          element.innerHTML = '';\n",
              "          dataTable['output_type'] = 'display_data';\n",
              "          await google.colab.output.renderOutput(dataTable, element);\n",
              "          const docLink = document.createElement('div');\n",
              "          docLink.innerHTML = docLinkHtml;\n",
              "          element.appendChild(docLink);\n",
              "        }\n",
              "      </script>\n",
              "    </div>\n",
              "  </div>\n",
              "  "
            ]
          },
          "metadata": {}
        },
        {
          "output_type": "execute_result",
          "data": {
            "text/plain": [
              "                                                    File               Label\n",
              "12456  /content/drive/MyDrive/Image_Classification/da...      train_vehicles\n",
              "10557  /content/drive/MyDrive/Image_Classification/da...  train_non_vehicles\n",
              "10042  /content/drive/MyDrive/Image_Classification/da...  train_non_vehicles\n",
              "7810   /content/drive/MyDrive/Image_Classification/da...  train_non_vehicles\n",
              "4864   /content/drive/MyDrive/Image_Classification/da...      train_vehicles"
            ],
            "text/html": [
              "\n",
              "  <div id=\"df-262bbccc-4831-4b67-b061-4a5b70b223f1\">\n",
              "    <div class=\"colab-df-container\">\n",
              "      <div>\n",
              "<style scoped>\n",
              "    .dataframe tbody tr th:only-of-type {\n",
              "        vertical-align: middle;\n",
              "    }\n",
              "\n",
              "    .dataframe tbody tr th {\n",
              "        vertical-align: top;\n",
              "    }\n",
              "\n",
              "    .dataframe thead th {\n",
              "        text-align: right;\n",
              "    }\n",
              "</style>\n",
              "<table border=\"1\" class=\"dataframe\">\n",
              "  <thead>\n",
              "    <tr style=\"text-align: right;\">\n",
              "      <th></th>\n",
              "      <th>File</th>\n",
              "      <th>Label</th>\n",
              "    </tr>\n",
              "  </thead>\n",
              "  <tbody>\n",
              "    <tr>\n",
              "      <th>12456</th>\n",
              "      <td>/content/drive/MyDrive/Image_Classification/da...</td>\n",
              "      <td>train_vehicles</td>\n",
              "    </tr>\n",
              "    <tr>\n",
              "      <th>10557</th>\n",
              "      <td>/content/drive/MyDrive/Image_Classification/da...</td>\n",
              "      <td>train_non_vehicles</td>\n",
              "    </tr>\n",
              "    <tr>\n",
              "      <th>10042</th>\n",
              "      <td>/content/drive/MyDrive/Image_Classification/da...</td>\n",
              "      <td>train_non_vehicles</td>\n",
              "    </tr>\n",
              "    <tr>\n",
              "      <th>7810</th>\n",
              "      <td>/content/drive/MyDrive/Image_Classification/da...</td>\n",
              "      <td>train_non_vehicles</td>\n",
              "    </tr>\n",
              "    <tr>\n",
              "      <th>4864</th>\n",
              "      <td>/content/drive/MyDrive/Image_Classification/da...</td>\n",
              "      <td>train_vehicles</td>\n",
              "    </tr>\n",
              "  </tbody>\n",
              "</table>\n",
              "</div>\n",
              "      <button class=\"colab-df-convert\" onclick=\"convertToInteractive('df-262bbccc-4831-4b67-b061-4a5b70b223f1')\"\n",
              "              title=\"Convert this dataframe to an interactive table.\"\n",
              "              style=\"display:none;\">\n",
              "        \n",
              "  <svg xmlns=\"http://www.w3.org/2000/svg\" height=\"24px\"viewBox=\"0 0 24 24\"\n",
              "       width=\"24px\">\n",
              "    <path d=\"M0 0h24v24H0V0z\" fill=\"none\"/>\n",
              "    <path d=\"M18.56 5.44l.94 2.06.94-2.06 2.06-.94-2.06-.94-.94-2.06-.94 2.06-2.06.94zm-11 1L8.5 8.5l.94-2.06 2.06-.94-2.06-.94L8.5 2.5l-.94 2.06-2.06.94zm10 10l.94 2.06.94-2.06 2.06-.94-2.06-.94-.94-2.06-.94 2.06-2.06.94z\"/><path d=\"M17.41 7.96l-1.37-1.37c-.4-.4-.92-.59-1.43-.59-.52 0-1.04.2-1.43.59L10.3 9.45l-7.72 7.72c-.78.78-.78 2.05 0 2.83L4 21.41c.39.39.9.59 1.41.59.51 0 1.02-.2 1.41-.59l7.78-7.78 2.81-2.81c.8-.78.8-2.07 0-2.86zM5.41 20L4 18.59l7.72-7.72 1.47 1.35L5.41 20z\"/>\n",
              "  </svg>\n",
              "      </button>\n",
              "      \n",
              "  <style>\n",
              "    .colab-df-container {\n",
              "      display:flex;\n",
              "      flex-wrap:wrap;\n",
              "      gap: 12px;\n",
              "    }\n",
              "\n",
              "    .colab-df-convert {\n",
              "      background-color: #E8F0FE;\n",
              "      border: none;\n",
              "      border-radius: 50%;\n",
              "      cursor: pointer;\n",
              "      display: none;\n",
              "      fill: #1967D2;\n",
              "      height: 32px;\n",
              "      padding: 0 0 0 0;\n",
              "      width: 32px;\n",
              "    }\n",
              "\n",
              "    .colab-df-convert:hover {\n",
              "      background-color: #E2EBFA;\n",
              "      box-shadow: 0px 1px 2px rgba(60, 64, 67, 0.3), 0px 1px 3px 1px rgba(60, 64, 67, 0.15);\n",
              "      fill: #174EA6;\n",
              "    }\n",
              "\n",
              "    [theme=dark] .colab-df-convert {\n",
              "      background-color: #3B4455;\n",
              "      fill: #D2E3FC;\n",
              "    }\n",
              "\n",
              "    [theme=dark] .colab-df-convert:hover {\n",
              "      background-color: #434B5C;\n",
              "      box-shadow: 0px 1px 3px 1px rgba(0, 0, 0, 0.15);\n",
              "      filter: drop-shadow(0px 1px 2px rgba(0, 0, 0, 0.3));\n",
              "      fill: #FFFFFF;\n",
              "    }\n",
              "  </style>\n",
              "\n",
              "      <script>\n",
              "        const buttonEl =\n",
              "          document.querySelector('#df-262bbccc-4831-4b67-b061-4a5b70b223f1 button.colab-df-convert');\n",
              "        buttonEl.style.display =\n",
              "          google.colab.kernel.accessAllowed ? 'block' : 'none';\n",
              "\n",
              "        async function convertToInteractive(key) {\n",
              "          const element = document.querySelector('#df-262bbccc-4831-4b67-b061-4a5b70b223f1');\n",
              "          const dataTable =\n",
              "            await google.colab.kernel.invokeFunction('convertToInteractive',\n",
              "                                                     [key], {});\n",
              "          if (!dataTable) return;\n",
              "\n",
              "          const docLinkHtml = 'Like what you see? Visit the ' +\n",
              "            '<a target=\"_blank\" href=https://colab.research.google.com/notebooks/data_table.ipynb>data table notebook</a>'\n",
              "            + ' to learn more about interactive tables.';\n",
              "          element.innerHTML = '';\n",
              "          dataTable['output_type'] = 'display_data';\n",
              "          await google.colab.output.renderOutput(dataTable, element);\n",
              "          const docLink = document.createElement('div');\n",
              "          docLink.innerHTML = docLinkHtml;\n",
              "          element.appendChild(docLink);\n",
              "        }\n",
              "      </script>\n",
              "    </div>\n",
              "  </div>\n",
              "  "
            ]
          },
          "metadata": {},
          "execution_count": 3
        }
      ]
    },
    {
      "cell_type": "code",
      "source": [
        "#converting the Label to a numeric format for testing later...\n",
        "LE = LabelEncoder()\n",
        "y_test = LE.fit_transform(testset_df[\"Label\"])"
      ],
      "metadata": {
        "id": "5SK3_1oxE2-J"
      },
      "execution_count": null,
      "outputs": []
    },
    {
      "cell_type": "code",
      "source": [
        "# Viewing data in training dataset\n",
        "print('Training Dataset:')\n",
        "print(f'Number of images: {trainset_df.shape[0]}')\n",
        "print(f'Number of images with malee eyes: {trainset_df[\"Label\"].value_counts()[0]}')\n",
        "print(f'Number of images with femalee eyes: {trainset_df[\"Label\"].value_counts()[1]}\\n')\n",
        "\n",
        "# Viewing data in test dataset\n",
        "print('Test Dataset:')\n",
        "print(f'Number of images: {testset_df.shape[0]}')\n",
        "print(f'Number of images with malee eyes: {testset_df[\"Label\"].value_counts()[0]}')\n",
        "print(f'Number of images with femalee eyes: {testset_df[\"Label\"].value_counts()[1]}\\n')"
      ],
      "metadata": {
        "id": "ZBn3XV4xE472",
        "colab": {
          "base_uri": "https://localhost:8080/"
        },
        "outputId": "a3b49ab2-faa8-48df-b2df-4e03c56e7c2b"
      },
      "execution_count": null,
      "outputs": [
        {
          "output_type": "stream",
          "name": "stdout",
          "text": [
            "Training Dataset:\n",
            "Number of images: 11264\n",
            "Number of images with malee eyes: 5841\n",
            "Number of images with femalee eyes: 5423\n",
            "\n",
            "Test Dataset:\n",
            "Number of images: 1252\n",
            "Number of images with malee eyes: 643\n",
            "Number of images with femalee eyes: 609\n",
            "\n"
          ]
        }
      ]
    },
    {
      "cell_type": "code",
      "source": [
        "#rescale - Transform image size (normalization of data)\n",
        "#shear_range - Random geometric transformations\n",
        "#zoom_range - Images that will be zoomed\n",
        "#rotation_range - Degree of image rotation\n",
        "#width_shift_range - Image Width Change Range\n",
        "#height_shift_range - Image height change range\n",
        "#horizontal_flip - Rotate images horizontally\n",
        "#vertical_flip - Rotate images vertically\n",
        "#validation_split - Images that have been reserved for validation (0-1)\n",
        "train_datagen = ImageDataGenerator(rescale = 1./255,\n",
        "                                    shear_range = 0.2,\n",
        "                                    zoom_range = 0.1,\n",
        "                                    rotation_range = 20,\n",
        "                                    width_shift_range = 0.1,\n",
        "                                    height_shift_range = 0.1,\n",
        "                                    horizontal_flip = True,\n",
        "                                    vertical_flip = True,\n",
        "                                    validation_split = 0.1)\n",
        "\n",
        "test_datagen = ImageDataGenerator(rescale = 1./255)"
      ],
      "metadata": {
        "id": "VrrWBt3TE7lX"
      },
      "execution_count": null,
      "outputs": []
    },
    {
      "cell_type": "code",
      "source": [
        "#Directory of training, validation and test images\n",
        "'''dataframe - Dataframe containing the images directory\n",
        "x_col - Column name containing the images directory\n",
        "y_col - Name of the column containing what we want to predict\n",
        "target_size - size of the images (remembering that it must be the same size as the input layer)\n",
        "color_mode - RGB color standard\n",
        "class_mode - binary class mode\n",
        "batch_size - batch size\n",
        "shuffle - Shuffle the data\n",
        "seed - optional random seed for the shuffle\n",
        "subset - Subset of data being training and validation (only used if using validation_split in ImageDataGenerator)'''\n",
        "print(\"Preparing the training dataset ...\")\n",
        "training_set = train_datagen.flow_from_dataframe(\n",
        "    dataframe = trainset_df,\n",
        "    x_col = \"File\",\n",
        "    y_col = \"Label\",\n",
        "    target_size = (75, 75),\n",
        "    color_mode = \"rgb\",\n",
        "    class_mode = \"binary\",\n",
        "    batch_size = 100,\n",
        "    shuffle = True,\n",
        "    seed = 2,\n",
        "    subset = \"training\")\n",
        "\n",
        "print(\"Preparing the validation dataset ...\")\n",
        "validation_set = train_datagen.flow_from_dataframe(\n",
        "    dataframe = trainset_df,\n",
        "    x_col = \"File\",\n",
        "    y_col = \"Label\",\n",
        "    target_size = (75, 75),\n",
        "    color_mode =\"rgb\",\n",
        "    class_mode = \"binary\",\n",
        "    batch_size = 100,\n",
        "    shuffle = True,\n",
        "    seed = 2,\n",
        "    subset = \"validation\")\n",
        "\n",
        "print(\"Preparing the test dataset ...\")\n",
        "test_set = test_datagen.flow_from_dataframe(\n",
        "    dataframe = testset_df,\n",
        "    x_col = \"File\",\n",
        "    y_col = \"Label\",\n",
        "    target_size = (75, 75),\n",
        "    color_mode =\"rgb\",\n",
        "    class_mode = \"binary\",\n",
        "    shuffle = False,\n",
        "    batch_size = 100)\n",
        "\n",
        "print('Data generators are ready!')\n"
      ],
      "metadata": {
        "id": "QpemmnyHE-J5",
        "colab": {
          "base_uri": "https://localhost:8080/"
        },
        "outputId": "d93f929d-0591-4a2d-b168-3300fdaa4f8c"
      },
      "execution_count": null,
      "outputs": [
        {
          "output_type": "stream",
          "name": "stdout",
          "text": [
            "Preparing the training dataset ...\n",
            "Found 10138 validated image filenames belonging to 2 classes.\n",
            "Preparing the validation dataset ...\n",
            "Found 1126 validated image filenames belonging to 2 classes.\n",
            "Preparing the test dataset ...\n",
            "Found 1252 validated image filenames belonging to 2 classes.\n",
            "Data generators are ready!\n"
          ]
        }
      ]
    },
    {
      "cell_type": "code",
      "source": [
        "'''monitor - Metrics that will be monitored\n",
        "patience - Number of times without improvement in the model, after these times the training is stopped\n",
        "restore_best_weights - Restores best weights if training is interrupted'''\n",
        "# Callbacks\n",
        "#cb = [EarlyStopping(monitor = 'loss', mode = 'min', patience = 5, restore_best_weights = True)]"
      ],
      "metadata": {
        "id": "hkxv9fsLFBgp",
        "colab": {
          "base_uri": "https://localhost:8080/",
          "height": 53
        },
        "outputId": "6ff59668-64b9-4d65-a027-c13c3f1453c4"
      },
      "execution_count": null,
      "outputs": [
        {
          "output_type": "execute_result",
          "data": {
            "text/plain": [
              "'monitor - Metrics that will be monitored\\npatience - Number of times without improvement in the model, after these times the training is stopped\\nrestore_best_weights - Restores best weights if training is interrupted'"
            ],
            "application/vnd.google.colaboratory.intrinsic+json": {
              "type": "string"
            }
          },
          "metadata": {},
          "execution_count": 8
        }
      ]
    },
    {
      "cell_type": "code",
      "source": [
        "#Construction of model MobileNet\n",
        "'''Step 1 - Base model creation\n",
        "input_shape - Setting the height/width and RGB channels (75, 75, 3)\n",
        "include_top - Fully connected layer will not be included on top\n",
        "weights - Pre-training using imagenet'''\n",
        "CNN_base_mobilenet = MobileNet(input_shape = (75, 75, 3), include_top = False, weights = 'imagenet')"
      ],
      "metadata": {
        "id": "ke41-9bTGy0W",
        "colab": {
          "base_uri": "https://localhost:8080/"
        },
        "outputId": "e5cd9f85-c0e9-4758-f6fb-a7d3caaf94a8"
      },
      "execution_count": null,
      "outputs": [
        {
          "output_type": "stream",
          "name": "stderr",
          "text": [
            "WARNING:tensorflow:`input_shape` is undefined or non-square, or `rows` is not in [128, 160, 192, 224]. Weights for input shape (224, 224) will be loaded as the default.\n"
          ]
        },
        {
          "output_type": "stream",
          "name": "stdout",
          "text": [
            "Downloading data from https://storage.googleapis.com/tensorflow/keras-applications/mobilenet/mobilenet_1_0_224_tf_no_top.h5\n",
            "17225924/17225924 [==============================] - 0s 0us/step\n"
          ]
        }
      ]
    },
    {
      "cell_type": "code",
      "source": [
        "for layer in CNN_base_mobilenet.layers:\n",
        "  layer.trainable = False"
      ],
      "metadata": {
        "id": "q6H3UqX6HAKC"
      },
      "execution_count": null,
      "outputs": []
    },
    {
      "cell_type": "code",
      "source": [
        "'''Step 2 - Dense Neural Networks\n",
        "Dense - All connected neurons\n",
        "units - Number of neurons that are part of the hidden layer\n",
        "activation - Activation function that will be inserted\n",
        "Dropout - is used to decrease the chance of overfitting (40% of input neurons are zeroed)'''\n",
        "CNN_mobilenet = Sequential()\n",
        "CNN_mobilenet.add(BatchNormalization(input_shape = (75, 75, 3)))\n",
        "CNN_mobilenet.add(CNN_base_mobilenet)\n",
        "CNN_mobilenet.add(BatchNormalization())\n",
        "CNN_mobilenet.add(GlobalAveragePooling2D())\n",
        "CNN_mobilenet.add(Dropout(0.5))\n",
        "CNN_mobilenet.add(Dense(1, activation = 'sigmoid'))\n",
        "\n",
        "CNN_mobilenet.summary()"
      ],
      "metadata": {
        "id": "3a0WT5qkHAQ-",
        "colab": {
          "base_uri": "https://localhost:8080/"
        },
        "outputId": "c9c7ea3b-f9ce-4cc7-9acb-d9893ae3df07"
      },
      "execution_count": null,
      "outputs": [
        {
          "output_type": "stream",
          "name": "stdout",
          "text": [
            "Model: \"sequential\"\n",
            "_________________________________________________________________\n",
            " Layer (type)                Output Shape              Param #   \n",
            "=================================================================\n",
            " batch_normalization (BatchN  (None, 75, 75, 3)        12        \n",
            " ormalization)                                                   \n",
            "                                                                 \n",
            " mobilenet_1.00_224 (Functio  (None, 2, 2, 1024)       3228864   \n",
            " nal)                                                            \n",
            "                                                                 \n",
            " batch_normalization_1 (Batc  (None, 2, 2, 1024)       4096      \n",
            " hNormalization)                                                 \n",
            "                                                                 \n",
            " global_average_pooling2d (G  (None, 1024)             0         \n",
            " lobalAveragePooling2D)                                          \n",
            "                                                                 \n",
            " dropout (Dropout)           (None, 1024)              0         \n",
            "                                                                 \n",
            " dense (Dense)               (None, 1)                 1025      \n",
            "                                                                 \n",
            "=================================================================\n",
            "Total params: 3,233,997\n",
            "Trainable params: 3,079\n",
            "Non-trainable params: 3,230,918\n",
            "_________________________________________________________________\n"
          ]
        }
      ]
    },
    {
      "cell_type": "code",
      "source": [
        "'''Step 3 - Model compilation and training\n",
        "Compile parameters:\n",
        "optimizer - descent of the gradient and descent of the stochastic gradient\n",
        " loss - Loss function (binary_crossentropy as there is only one exit)\n",
        " metrics - Evaluation metrics (obs - more than one can be placed)\n",
        " Fit parameters:\n",
        "\n",
        " train_data - training database\n",
        " epochs - number of seasons\n",
        " validation_data - test database\n",
        " callbacks - Using EarlyStopping\n",
        " validation_steps - number of images to validation'''\n",
        " # Compilation\n",
        "CNN_mobilenet.compile(optimizer='adam',loss = 'binary_crossentropy', metrics=['accuracy'])\n",
        "\n",
        "# Start of counting time\n",
        "start = dt.datetime.now()\n",
        "\n",
        "# Training and validation\n",
        "CNN_mobilenet_history = CNN_mobilenet.fit(training_set, epochs = 35, validation_data = validation_set, )\n",
        "#callbacks = cb\n",
        "# End of Time Counting\n",
        "end = dt.datetime.now()\n",
        "time_CNN_mobilenet = end - start\n",
        "print ('\\nTraining and validation time: ', time_CNN_mobilenet)"
      ],
      "metadata": {
        "id": "rzHljhfOHRcb",
        "colab": {
          "base_uri": "https://localhost:8080/"
        },
        "outputId": "299356a1-60fb-423c-e77e-10cc0c01469a"
      },
      "execution_count": null,
      "outputs": [
        {
          "output_type": "stream",
          "name": "stdout",
          "text": [
            "Epoch 1/35\n",
            "102/102 [==============================] - 1536s 14s/step - loss: 0.2546 - accuracy: 0.8946 - val_loss: 0.1304 - val_accuracy: 0.9512\n",
            "Epoch 2/35\n",
            "102/102 [==============================] - 36s 350ms/step - loss: 0.1050 - accuracy: 0.9625 - val_loss: 0.0779 - val_accuracy: 0.9734\n",
            "Epoch 3/35\n",
            "102/102 [==============================] - 36s 348ms/step - loss: 0.0889 - accuracy: 0.9696 - val_loss: 0.0524 - val_accuracy: 0.9831\n",
            "Epoch 4/35\n",
            "102/102 [==============================] - 35s 344ms/step - loss: 0.0767 - accuracy: 0.9734 - val_loss: 0.0526 - val_accuracy: 0.9813\n",
            "Epoch 5/35\n",
            "102/102 [==============================] - 35s 348ms/step - loss: 0.0716 - accuracy: 0.9762 - val_loss: 0.0595 - val_accuracy: 0.9822\n",
            "Epoch 6/35\n",
            "102/102 [==============================] - 37s 366ms/step - loss: 0.0666 - accuracy: 0.9758 - val_loss: 0.0432 - val_accuracy: 0.9849\n",
            "Epoch 7/35\n",
            "102/102 [==============================] - 35s 341ms/step - loss: 0.0571 - accuracy: 0.9804 - val_loss: 0.0392 - val_accuracy: 0.9876\n",
            "Epoch 8/35\n",
            "102/102 [==============================] - 35s 348ms/step - loss: 0.0597 - accuracy: 0.9766 - val_loss: 0.0417 - val_accuracy: 0.9831\n",
            "Epoch 9/35\n",
            "102/102 [==============================] - 35s 346ms/step - loss: 0.0606 - accuracy: 0.9787 - val_loss: 0.0418 - val_accuracy: 0.9867\n",
            "Epoch 10/35\n",
            "102/102 [==============================] - 35s 342ms/step - loss: 0.0584 - accuracy: 0.9788 - val_loss: 0.0289 - val_accuracy: 0.9867\n",
            "Epoch 11/35\n",
            "102/102 [==============================] - 36s 351ms/step - loss: 0.0572 - accuracy: 0.9802 - val_loss: 0.0407 - val_accuracy: 0.9840\n",
            "Epoch 12/35\n",
            "102/102 [==============================] - 35s 338ms/step - loss: 0.0529 - accuracy: 0.9807 - val_loss: 0.0382 - val_accuracy: 0.9867\n",
            "Epoch 13/35\n",
            "102/102 [==============================] - 36s 350ms/step - loss: 0.0518 - accuracy: 0.9812 - val_loss: 0.0306 - val_accuracy: 0.9902\n",
            "Epoch 14/35\n",
            "102/102 [==============================] - 35s 342ms/step - loss: 0.0466 - accuracy: 0.9832 - val_loss: 0.0304 - val_accuracy: 0.9902\n",
            "Epoch 15/35\n",
            "102/102 [==============================] - 35s 341ms/step - loss: 0.0526 - accuracy: 0.9825 - val_loss: 0.0258 - val_accuracy: 0.9920\n",
            "Epoch 16/35\n",
            "102/102 [==============================] - 36s 349ms/step - loss: 0.0507 - accuracy: 0.9812 - val_loss: 0.0274 - val_accuracy: 0.9876\n",
            "Epoch 17/35\n",
            "102/102 [==============================] - 37s 365ms/step - loss: 0.0495 - accuracy: 0.9822 - val_loss: 0.0259 - val_accuracy: 0.9885\n",
            "Epoch 18/35\n",
            "102/102 [==============================] - 35s 347ms/step - loss: 0.0520 - accuracy: 0.9818 - val_loss: 0.0305 - val_accuracy: 0.9885\n",
            "Epoch 19/35\n",
            "102/102 [==============================] - 34s 337ms/step - loss: 0.0454 - accuracy: 0.9836 - val_loss: 0.0144 - val_accuracy: 0.9982\n",
            "Epoch 20/35\n",
            "102/102 [==============================] - 35s 347ms/step - loss: 0.0497 - accuracy: 0.9830 - val_loss: 0.0206 - val_accuracy: 0.9947\n",
            "Epoch 21/35\n",
            "102/102 [==============================] - 35s 344ms/step - loss: 0.0490 - accuracy: 0.9828 - val_loss: 0.0215 - val_accuracy: 0.9920\n",
            "Epoch 22/35\n",
            "102/102 [==============================] - 35s 338ms/step - loss: 0.0506 - accuracy: 0.9827 - val_loss: 0.0143 - val_accuracy: 0.9973\n",
            "Epoch 23/35\n",
            "102/102 [==============================] - 35s 346ms/step - loss: 0.0485 - accuracy: 0.9831 - val_loss: 0.0281 - val_accuracy: 0.9911\n",
            "Epoch 24/35\n",
            "102/102 [==============================] - 35s 344ms/step - loss: 0.0447 - accuracy: 0.9843 - val_loss: 0.0198 - val_accuracy: 0.9920\n",
            "Epoch 25/35\n",
            "102/102 [==============================] - 37s 359ms/step - loss: 0.0440 - accuracy: 0.9848 - val_loss: 0.0248 - val_accuracy: 0.9893\n",
            "Epoch 26/35\n",
            "102/102 [==============================] - 35s 342ms/step - loss: 0.0532 - accuracy: 0.9816 - val_loss: 0.0180 - val_accuracy: 0.9938\n",
            "Epoch 27/35\n",
            "102/102 [==============================] - 35s 344ms/step - loss: 0.0525 - accuracy: 0.9824 - val_loss: 0.0252 - val_accuracy: 0.9885\n",
            "Epoch 28/35\n",
            "102/102 [==============================] - 35s 348ms/step - loss: 0.0515 - accuracy: 0.9812 - val_loss: 0.0296 - val_accuracy: 0.9902\n",
            "Epoch 29/35\n",
            "102/102 [==============================] - 35s 339ms/step - loss: 0.0465 - accuracy: 0.9838 - val_loss: 0.0269 - val_accuracy: 0.9911\n",
            "Epoch 30/35\n",
            "102/102 [==============================] - 35s 347ms/step - loss: 0.0472 - accuracy: 0.9825 - val_loss: 0.0249 - val_accuracy: 0.9929\n",
            "Epoch 31/35\n",
            "102/102 [==============================] - 34s 338ms/step - loss: 0.0490 - accuracy: 0.9803 - val_loss: 0.0259 - val_accuracy: 0.9911\n",
            "Epoch 32/35\n",
            "102/102 [==============================] - 37s 363ms/step - loss: 0.0525 - accuracy: 0.9812 - val_loss: 0.0259 - val_accuracy: 0.9911\n",
            "Epoch 33/35\n",
            "102/102 [==============================] - 35s 347ms/step - loss: 0.0484 - accuracy: 0.9836 - val_loss: 0.0186 - val_accuracy: 0.9920\n",
            "Epoch 34/35\n",
            "102/102 [==============================] - 35s 339ms/step - loss: 0.0489 - accuracy: 0.9816 - val_loss: 0.0263 - val_accuracy: 0.9920\n",
            "Epoch 35/35\n",
            "102/102 [==============================] - 35s 348ms/step - loss: 0.0511 - accuracy: 0.9819 - val_loss: 0.0315 - val_accuracy: 0.9920\n",
            "\n",
            "Training and validation time:  0:46:43.149094\n"
          ]
        }
      ]
    },
    {
      "cell_type": "code",
      "source": [
        "import matplotlib.pyplot as plot\n",
        "import tensorflow as tf\n",
        "import matplotlib.pyplot as plt"
      ],
      "metadata": {
        "id": "bLzlqszTUTl3"
      },
      "execution_count": null,
      "outputs": []
    },
    {
      "cell_type": "code",
      "source": [
        "plot.subplot(2,1,1)\n",
        "plot.plot(CNN_mobilenet_history.history['accuracy'])\n",
        "plot.plot(CNN_mobilenet_history.history['val_accuracy'])\n",
        "plot.title('model accuracy')\n",
        "plot.ylabel('accuracy')\n",
        "plot.xlabel('epoch')\n",
        "plot.legend(['train', 'test'], loc='lower right')"
      ],
      "metadata": {
        "colab": {
          "base_uri": "https://localhost:8080/",
          "height": 194
        },
        "id": "AT9oNOUhb7NT",
        "outputId": "b1f5297e-5959-4484-ff11-b2c9184f7e76"
      },
      "execution_count": null,
      "outputs": [
        {
          "output_type": "execute_result",
          "data": {
            "text/plain": [
              "<matplotlib.legend.Legend at 0x7f2fdc114a30>"
            ]
          },
          "metadata": {},
          "execution_count": 18
        },
        {
          "output_type": "display_data",
          "data": {
            "text/plain": [
              "<Figure size 432x288 with 1 Axes>"
            ],
            "image/png": "[encoded data removed]"
          },
          "metadata": {
            "needs_background": "light"
          }
        }
      ]
    },
    {
      "cell_type": "code",
      "source": [
        "plot.subplot(2,1,2)\n",
        "plot.plot(CNN_mobilenet_history.history['loss'])\n",
        "plot.plot(CNN_mobilenet_history.history['val_loss'])\n",
        "plot.title('model loss')\n",
        "plot.ylabel('loss')\n",
        "plot.xlabel('epoch')\n",
        "plot.legend(['train', 'test'], loc='upper right')"
      ],
      "metadata": {
        "colab": {
          "base_uri": "https://localhost:8080/",
          "height": 194
        },
        "id": "Y8BhPHVRb7US",
        "outputId": "4be09f50-2699-4a8b-9dfb-481901c5cd41"
      },
      "execution_count": null,
      "outputs": [
        {
          "output_type": "execute_result",
          "data": {
            "text/plain": [
              "<matplotlib.legend.Legend at 0x7f2fdc043070>"
            ]
          },
          "metadata": {},
          "execution_count": 20
        },
        {
          "output_type": "display_data",
          "data": {
            "text/plain": [
              "<Figure size 432x288 with 1 Axes>"
            ],
            "image/png": "[encoded data removed]"
          },
          "metadata": {
            "needs_background": "light"
          }
        }
      ]
    },
    {
      "cell_type": "code",
      "source": [
        "model_json = CNN_mobilenet.to_json()\n",
        "with open(\"/content/drive/MyDrive/Image_Classification/MobileNet Model/MobileNet.json\", \"w\") as json_file:\n",
        "  json_file.write(model_json)\n",
        "  CNN_mobilenet.save(\"/content/drive/MyDrive/Image_Classification/MobileNet Model/MobileNet.h5\")\n",
        "  print(\"Saved model to disk\")\n",
        "  CNN_mobilenet.save_weights(\"/content/drive/MyDrive/Image_Classification/MobileNet Model/MobileNet.h5\")"
      ],
      "metadata": {
        "colab": {
          "base_uri": "https://localhost:8080/"
        },
        "id": "ELOcZmYfLELs",
        "outputId": "0b4b01ed-0286-4a69-cbef-a368262d5f03"
      },
      "execution_count": null,
      "outputs": [
        {
          "output_type": "stream",
          "name": "stdout",
          "text": [
            "Saved model to disk\n"
          ]
        }
      ]
    }
  ]
}